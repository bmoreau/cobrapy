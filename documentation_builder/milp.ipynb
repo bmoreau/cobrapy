{
 "metadata": {
  "name": "",
  "signature": "sha256:4ee02e09a46bb864bdc47d0675a333367d422c87012aacd269575ac2374fdaff"
 },
 "nbformat": 3,
 "nbformat_minor": 0,
 "worksheets": [
  {
   "cells": [
    {
     "cell_type": "heading",
     "level": 1,
     "metadata": {},
     "source": [
      "Mixed-Integer Linear Programming"
     ]
    },
    {
     "cell_type": "markdown",
     "metadata": {},
     "source": [
      "This example is available as an IPython [notebook](http://nbviewer.ipython.org/github/opencobra/cobrapy/blob/master/documentation_builder/milp.ipynb)."
     ]
    },
    {
     "cell_type": "heading",
     "level": 2,
     "metadata": {},
     "source": [
      "Ice Cream"
     ]
    },
    {
     "cell_type": "markdown",
     "metadata": {},
     "source": [
      "This example was originally contributed by Joshua Lerman.\n",
      "\n",
      "An ice cream stand sells cones and popsicles. It wants to maximize its profit, but is subject to a budget.\n",
      "\n",
      "We can write this problem as a linear program:\n",
      "\n",
      "> **max** cone $\\cdot$ cone_margin + popsicle $\\cdot$ popsicle margin\n",
      "\n",
      "> *subject to*\n",
      "\n",
      "> cone $\\cdot$ cone_cost + popsicle $\\cdot$ popsicle_cost $\\le$ budget"
     ]
    },
    {
     "cell_type": "code",
     "collapsed": false,
     "input": [
      "cone_selling_price = 7.\n",
      "cone_production_cost = 3.\n",
      "popsicle_selling_price = 2.\n",
      "popsicle_production_cost = 1.\n",
      "starting_budget = 100.\n"
     ],
     "language": "python",
     "metadata": {},
     "outputs": [],
     "prompt_number": 1
    },
    {
     "cell_type": "markdown",
     "metadata": {},
     "source": [
      "This problem can be written as a cobra.Model"
     ]
    },
    {
     "cell_type": "code",
     "collapsed": false,
     "input": [
      "from cobra import Model, Metabolite, Reaction\n",
      "\n",
      "cone = Reaction(\"cone\")\n",
      "popsicle = Reaction(\"popsicle\")\n",
      "\n",
      "# constrainted to a budget\n",
      "budget = Metabolite(\"budget\")\n",
      "budget._constraint_sense = \"L\"\n",
      "budget._bound = starting_budget\n",
      "cone.add_metabolites({budget: cone_production_cost})\n",
      "popsicle.add_metabolites({budget: popsicle_production_cost})\n",
      "\n",
      "# objective coefficient is the profit to be made from each unit\n",
      "cone.objective_coefficient = cone_selling_price - cone_production_cost\n",
      "popsicle.objective_coefficient = popsicle_selling_price - popsicle_production_cost\n",
      "\n",
      "m = Model(\"lerman_ice_cream_co\")\n",
      "m.add_reactions((cone, popsicle))\n",
      "\n",
      "m.optimize().x_dict"
     ],
     "language": "python",
     "metadata": {},
     "outputs": [
      {
       "metadata": {},
       "output_type": "pyout",
       "prompt_number": 2,
       "text": [
        "{'cone': 33.333333333333336, 'popsicle': 0.0}"
       ]
      }
     ],
     "prompt_number": 2
    },
    {
     "cell_type": "markdown",
     "metadata": {},
     "source": [
      "In reality, cones and popsicles can only be sold in integer amounts. We can use the variable kind attribute of a cobra.Reaction to enforce this."
     ]
    },
    {
     "cell_type": "code",
     "collapsed": false,
     "input": [
      "cone.variable_kind = \"integer\"\n",
      "popsicle.variable_kind = \"integer\"\n",
      "m.optimize().x_dict"
     ],
     "language": "python",
     "metadata": {},
     "outputs": [
      {
       "metadata": {},
       "output_type": "pyout",
       "prompt_number": 3,
       "text": [
        "{'cone': 33.0, 'popsicle': 1.0}"
       ]
      }
     ],
     "prompt_number": 3
    },
    {
     "cell_type": "markdown",
     "metadata": {},
     "source": [
      "Now the model makes both popsicles and cones."
     ]
    },
    {
     "cell_type": "heading",
     "level": 2,
     "metadata": {},
     "source": [
      "Boolean Indicators"
     ]
    },
    {
     "cell_type": "markdown",
     "metadata": {},
     "source": [
      "As a more applied example, we can create boolean variables as integers, which can serve as indicators for a reaction being active in a model. For a reaction flux $v$ with lower bound -1000 and upper bound 1000, we can create a binary variable $b$ with the following constraints:\n",
      "\n",
      "$b \\in \\{0, 1\\}$\n",
      "\n",
      "$-1000 \\cdot b \\le v \\le 1000 \\cdot b$\n",
      "\n",
      "To introduce the above constraints into a cobra model, we can rewrite them as follows\n",
      "\n",
      "$v \\le b \\cdot 1000 \\Rightarrow v- 1000\\cdot b \\le 0$\n",
      "\n",
      "$-1000 \\cdot b \\le v \\Rightarrow v + 1000\\cdot b \\ge 0$"
     ]
    },
    {
     "cell_type": "code",
     "collapsed": false,
     "input": [
      "import cobra.test\n",
      "model = cobra.test.create_test_model(cobra.test.ecoli_pickle)\n",
      "\n",
      "# an indicator for pgi\n",
      "pgi = model.reactions.get_by_id(\"PGI\")\n",
      "# make a boolean variable\n",
      "pgi_indicator = Reaction(\"indicator_PGI\")\n",
      "pgi_indicator.lower_bound = 0\n",
      "pgi_indicator.upper_bound = 1\n",
      "pgi_indicator.variable_kind = \"integer\"\n",
      "# create constraint for v - 1000 b <= 0\n",
      "pgi_plus = Metabolite(\"PGI_plus\")\n",
      "pgi_plus._constraint_sense = \"L\"\n",
      "# create constraint for v + 1000 b >= 0\n",
      "pgi_minus = Metabolite(\"PGI_minus\")\n",
      "pgi_minus._constraint_sense = \"G\"\n",
      "\n",
      "pgi_indicator.add_metabolites({pgi_plus: -1000, pgi_minus: 1000})\n",
      "pgi.add_metabolites({pgi_plus: 1, pgi_minus: 1})\n",
      "model.add_reaction(pgi_indicator)\n",
      "\n",
      "\n",
      "# an indicator for zwf\n",
      "zwf = model.reactions.get_by_id(\"G6PDH2r\")\n",
      "zwf_indicator = Reaction(\"indicator_ZWF\")\n",
      "zwf_indicator.lower_bound = 0\n",
      "zwf_indicator.upper_bound = 1\n",
      "zwf_indicator.variable_kind = \"integer\"\n",
      "# create constraint for v - 1000 b <= 0\n",
      "zwf_plus = Metabolite(\"ZWF_plus\")\n",
      "zwf_plus._constraint_sense = \"L\"\n",
      "# create constraint for v + 1000 b >= 0\n",
      "zwf_minus = Metabolite(\"ZWF_minus\")\n",
      "zwf_minus._constraint_sense = \"G\"\n",
      "\n",
      "zwf_indicator.add_metabolites({zwf_plus: -1000, zwf_minus: 1000})\n",
      "zwf.add_metabolites({zwf_plus: 1, zwf_minus: 1})\n",
      "\n",
      "# add the indicator reactions to the model\n",
      "model.add_reaction(zwf_indicator)\n"
     ],
     "language": "python",
     "metadata": {},
     "outputs": [],
     "prompt_number": 4
    },
    {
     "cell_type": "markdown",
     "metadata": {},
     "source": [
      "In a model with both these reactions active, the indicators will also be active"
     ]
    },
    {
     "cell_type": "code",
     "collapsed": false,
     "input": [
      "solution = model.optimize()\n",
      "print(\"PGI indicator = %d\" % solution.x_dict[\"indicator_PGI\"])\n",
      "print(\"ZWF indicator = %d\" % solution.x_dict[\"indicator_ZWF\"])\n",
      "print(\"PGI flux = %.2f\" % solution.x_dict[\"PGI\"])\n",
      "print(\"ZWF flux = %.2f\" % solution.x_dict[\"G6PDH2r\"])"
     ],
     "language": "python",
     "metadata": {},
     "outputs": [
      {
       "output_type": "stream",
       "stream": "stdout",
       "text": [
        "PGI indicator = 1\n",
        "ZWF indicator = 1\n",
        "PGI flux = 5.92\n",
        "ZWF flux = 4.08\n"
       ]
      }
     ],
     "prompt_number": 5
    },
    {
     "cell_type": "markdown",
     "metadata": {},
     "source": [
      "Because these boolean indicators are in the model, additional constraints can be applied on them. For example, we can prevent both reactions from being active at the same time by adding the following constraint:\n",
      "\n",
      "$b_\\text{pgi} + b_\\text{zwf} = 1$"
     ]
    },
    {
     "cell_type": "code",
     "collapsed": false,
     "input": [
      "or_constraint = Metabolite(\"or\")\n",
      "or_constraint._bound = 1\n",
      "zwf_indicator.add_metabolites({or_constraint: 1})\n",
      "pgi_indicator.add_metabolites({or_constraint: 1})\n",
      "\n",
      "solution = model.optimize()\n",
      "print(\"PGI indicator = %d\" % solution.x_dict[\"indicator_PGI\"])\n",
      "print(\"ZWF indicator = %d\" % solution.x_dict[\"indicator_ZWF\"])\n",
      "print(\"PGI flux = %.2f\" % solution.x_dict[\"PGI\"])\n",
      "print(\"ZWF flux = %.2f\" % solution.x_dict[\"G6PDH2r\"])"
     ],
     "language": "python",
     "metadata": {},
     "outputs": [
      {
       "output_type": "stream",
       "stream": "stdout",
       "text": [
        "PGI indicator = 0\n",
        "ZWF indicator = 1\n",
        "PGI flux = 0.00\n",
        "ZWF flux = 3.98\n"
       ]
      }
     ],
     "prompt_number": 6
    }
   ],
   "metadata": {}
  }
 ]
}