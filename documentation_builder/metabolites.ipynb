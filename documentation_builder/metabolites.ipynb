{
 "metadata": {
  "name": "",
  "signature": "sha256:517dee5181849a58ba2beeee8b367a9ab897dfca8a6b9a9cdb7b839f543529dc"
 },
 "nbformat": 3,
 "nbformat_minor": 0,
 "worksheets": [
  {
   "cells": [
    {
     "cell_type": "heading",
     "level": 1,
     "metadata": {},
     "source": [
      "Metabolites in cobrapy"
     ]
    },
    {
     "cell_type": "markdown",
     "metadata": {},
     "source": [
      "This example is available as an IPython [notebook](http://nbviewer.ipython.org/github/opencobra/cobrapy/blob/master/documentation_builder/metabolites.ipynb)."
     ]
    },
    {
     "cell_type": "markdown",
     "metadata": {},
     "source": [
      "We will consider cytosolic atp as our metabolite, which has the id atp_c in our test model."
     ]
    },
    {
     "cell_type": "code",
     "collapsed": false,
     "input": [
      "import cobra.test\n",
      "model = cobra.test.create_test_model()\n",
      "atp = model.metabolites.get_by_id(\"atp_c\")\n",
      "atp"
     ],
     "language": "python",
     "metadata": {},
     "outputs": [
      {
       "metadata": {},
       "output_type": "pyout",
       "prompt_number": 1,
       "text": [
        "<Metabolite atp_c at 0x5b91c90>"
       ]
      }
     ],
     "prompt_number": 1
    },
    {
     "cell_type": "markdown",
     "metadata": {},
     "source": [
      "We can print out the metabolite name and compartment (cytosol in this case)."
     ]
    },
    {
     "cell_type": "code",
     "collapsed": false,
     "input": [
      "print(atp.name)\n",
      "print(atp.compartment)"
     ],
     "language": "python",
     "metadata": {},
     "outputs": [
      {
       "output_type": "stream",
       "stream": "stdout",
       "text": [
        "ATP\n",
        "c\n"
       ]
      }
     ],
     "prompt_number": 2
    },
    {
     "cell_type": "markdown",
     "metadata": {},
     "source": [
      "We can see that ATP is a charged molecule in our model."
     ]
    },
    {
     "cell_type": "code",
     "collapsed": false,
     "input": [
      "atp.charge"
     ],
     "language": "python",
     "metadata": {},
     "outputs": [
      {
       "metadata": {},
       "output_type": "pyout",
       "prompt_number": 3,
       "text": [
        "-4"
       ]
      }
     ],
     "prompt_number": 3
    },
    {
     "cell_type": "markdown",
     "metadata": {},
     "source": [
      "We can see the chemical formula for the metabolite as well."
     ]
    },
    {
     "cell_type": "code",
     "collapsed": false,
     "input": [
      "print(atp.formula)"
     ],
     "language": "python",
     "metadata": {},
     "outputs": [
      {
       "output_type": "stream",
       "stream": "stdout",
       "text": [
        "C10H12N5O13P3\n"
       ]
      }
     ],
     "prompt_number": 4
    },
    {
     "cell_type": "markdown",
     "metadata": {},
     "source": [
      "The reactions attribute gives a frozenset of all reactions using the given metabolite. We can use this to count the number of reactions which use atp."
     ]
    },
    {
     "cell_type": "code",
     "collapsed": false,
     "input": [
      "len(atp.reactions)"
     ],
     "language": "python",
     "metadata": {},
     "outputs": [
      {
       "metadata": {},
       "output_type": "pyout",
       "prompt_number": 5,
       "text": [
        "348"
       ]
      }
     ],
     "prompt_number": 5
    },
    {
     "cell_type": "markdown",
     "metadata": {},
     "source": [
      "A metabolite like glucose 6-phosphate will participate in fewer reactions."
     ]
    },
    {
     "cell_type": "code",
     "collapsed": false,
     "input": [
      "model.metabolites.get_by_id(\"g6p_c\").reactions"
     ],
     "language": "python",
     "metadata": {},
     "outputs": [
      {
       "metadata": {},
       "output_type": "pyout",
       "prompt_number": 6,
       "text": [
        "frozenset({<Reaction G6PDH2r at 0x6841090>,\n",
        "           <Reaction G6PP at 0x6841290>,\n",
        "           <Reaction G6Pt6_2pp at 0x6841350>,\n",
        "           <Reaction GLCptspp at 0x6853f90>,\n",
        "           <Reaction HEX1 at 0x6a18390>,\n",
        "           <Reaction PGI at 0x6f50ad0>,\n",
        "           <Reaction PGMT at 0x6f55090>,\n",
        "           <Reaction TRE6PH at 0x7129a90>,\n",
        "           <Reaction TRE6PS at 0x7129d50>,\n",
        "           <Reaction AB6PGH at 0x74f0450>})"
       ]
      }
     ],
     "prompt_number": 6
    }
   ],
   "metadata": {}
  }
 ]
}