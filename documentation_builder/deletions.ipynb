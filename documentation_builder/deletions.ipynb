{
 "metadata": {
  "name": "",
  "signature": "sha256:8aea8d9269819560b30e840374db9eb01d75ef1cfdfc660b25f6160f8c472fb2"
 },
 "nbformat": 3,
 "nbformat_minor": 0,
 "worksheets": [
  {
   "cells": [
    {
     "cell_type": "heading",
     "level": 1,
     "metadata": {},
     "source": [
      "Simulating Deletions"
     ]
    },
    {
     "cell_type": "markdown",
     "metadata": {},
     "source": [
      "This example is available as an IPython [notebook](http://nbviewer.ipython.org/github/opencobra/cobrapy/blob/master/documentation_builder/deletions.ipynb)."
     ]
    },
    {
     "cell_type": "code",
     "collapsed": false,
     "input": [
      "from time import time\n",
      "\n",
      "\n",
      "from cobra.test import create_test_model, salmonella_pickle, ecoli_pickle\n",
      "from cobra.flux_analysis import single_deletion\n",
      "from cobra.flux_analysis import double_deletion\n",
      "\n",
      "\n",
      "cobra_model = create_test_model(salmonella_pickle)\n"
     ],
     "language": "python",
     "metadata": {},
     "outputs": [],
     "prompt_number": 1
    },
    {
     "cell_type": "heading",
     "level": 2,
     "metadata": {},
     "source": [
      "Single Deletions"
     ]
    },
    {
     "cell_type": "raw",
     "metadata": {},
     "source": [
      "Perform all single gene deletions on a model"
     ]
    },
    {
     "cell_type": "code",
     "collapsed": false,
     "input": [
      "start = time()  # start timer()\n",
      "growth_rates, statuses = single_deletion(cobra_model)\n",
      "print(\"All single gene deletions completed in %.2f seconds\" % (time() - start))"
     ],
     "language": "python",
     "metadata": {},
     "outputs": [
      {
       "output_type": "stream",
       "stream": "stdout",
       "text": [
        "All single gene deletions completed in 4.15 seconds\n"
       ]
      }
     ],
     "prompt_number": 2
    },
    {
     "cell_type": "markdown",
     "metadata": {},
     "source": [
      "These can also be done for only a subset of genes"
     ]
    },
    {
     "cell_type": "code",
     "collapsed": false,
     "input": [
      "single_deletion(cobra_model, element_list=cobra_model.genes[:100]);\n"
     ],
     "language": "python",
     "metadata": {},
     "outputs": [],
     "prompt_number": 3
    },
    {
     "cell_type": "markdown",
     "metadata": {},
     "source": [
      "Single deletions can also be run on reactions"
     ]
    },
    {
     "cell_type": "code",
     "collapsed": false,
     "input": [
      "start = time()  # start timer()\n",
      "growth_rates, statuses = single_deletion(cobra_model, element_type=\"reaction\")\n",
      "print(\"All single reaction deletions completed in %.2f seconds\" % (time() - start))"
     ],
     "language": "python",
     "metadata": {},
     "outputs": [
      {
       "output_type": "stream",
       "stream": "stdout",
       "text": [
        "All single reaction deletions completed in 7.62 seconds\n"
       ]
      }
     ],
     "prompt_number": 4
    },
    {
     "cell_type": "heading",
     "level": 2,
     "metadata": {},
     "source": [
      "Double Deletions"
     ]
    },
    {
     "cell_type": "markdown",
     "metadata": {},
     "source": [
      "Double deletions run in a similar way"
     ]
    },
    {
     "cell_type": "code",
     "collapsed": false,
     "input": [
      "start = time()  # start timer()\n",
      "double_deletion(cobra_model, element_list_1=cobra_model.genes[:100])\n",
      "print(\"Double gene deletions for 100 genes completed in %.2f seconds\" % (time() - start))"
     ],
     "language": "python",
     "metadata": {},
     "outputs": [
      {
       "output_type": "stream",
       "stream": "stdout",
       "text": [
        "Double gene deletions for 100 genes completed in 8.57 seconds\n"
       ]
      }
     ],
     "prompt_number": 5
    },
    {
     "cell_type": "markdown",
     "metadata": {},
     "source": [
      "By default, the double deletion function will use multiprocessing, splitting the task over up to 4 cores if they are available. The number of cores can be manually sepcified as well. Setting use of a single core will disable use of the multiprocessing library, which often aids debuggging."
     ]
    },
    {
     "cell_type": "code",
     "collapsed": false,
     "input": [
      "start = time()  # start timer()\n",
      "double_deletion(cobra_model, element_list_1=cobra_model.genes[:100], number_of_processes=4)\n",
      "print(\"Double gene deletions for 100 genes completed in %.2f seconds with 4 cores\" % (time() - start))\n",
      "\n",
      "start = time()  # start timer()\n",
      "double_deletion(cobra_model, element_list_1=cobra_model.genes[:100], number_of_processes=1)\n",
      "print(\"Double gene deletions for 100 genes completed in %.2f seconds with 1 core\" % (time() - start))"
     ],
     "language": "python",
     "metadata": {},
     "outputs": [
      {
       "output_type": "stream",
       "stream": "stdout",
       "text": [
        "Double gene deletions for 100 genes completed in 8.31 seconds with 4 cores\n",
        "Double gene deletions for 100 genes completed in 21.53 seconds with 1 core"
       ]
      },
      {
       "output_type": "stream",
       "stream": "stdout",
       "text": [
        "\n"
       ]
      }
     ],
     "prompt_number": 6
    },
    {
     "cell_type": "markdown",
     "metadata": {},
     "source": [
      "Double deletions can also be run for reactions"
     ]
    },
    {
     "cell_type": "code",
     "collapsed": false,
     "input": [
      "start = time()\n",
      "double_deletion(cobra_model, element_list_1=cobra_model.reactions[:100], element_type=\"reaction\")\n",
      "print(\"Double reaction deletions for 100 reactions completed in %.2f seconds\" % (time() - start))"
     ],
     "language": "python",
     "metadata": {},
     "outputs": [
      {
       "output_type": "stream",
       "stream": "stdout",
       "text": [
        "Double reaction deletions for 100 reactions completed in 7.26 seconds\n"
       ]
      }
     ],
     "prompt_number": 7
    },
    {
     "cell_type": "markdown",
     "metadata": {},
     "source": [
      "If pandas is installed, the results can be returned formatted as a pandas.DataFrame"
     ]
    },
    {
     "cell_type": "code",
     "collapsed": false,
     "input": [
      "frame = double_deletion(cobra_model, element_list_1=cobra_model.reactions[300:308], element_type=\"reaction\", return_frame=True)\n",
      "frame[frame < 1e-9] = 0.  # round small values to 0\n",
      "frame"
     ],
     "language": "python",
     "metadata": {},
     "outputs": [
      {
       "html": [
        "<div style=\"max-height:1000px;max-width:1500px;overflow:auto;\">\n",
        "<table border=\"1\" class=\"dataframe\">\n",
        "  <thead>\n",
        "    <tr style=\"text-align: right;\">\n",
        "      <th></th>\n",
        "      <th>ARBtex</th>\n",
        "      <th>ARGAGMt7pp</th>\n",
        "      <th>ARGDC</th>\n",
        "      <th>ARGDCpp</th>\n",
        "      <th>ARGORNt7pp</th>\n",
        "      <th>ARGSL</th>\n",
        "      <th>ARGSS</th>\n",
        "      <th>ARGTRS</th>\n",
        "    </tr>\n",
        "  </thead>\n",
        "  <tbody>\n",
        "    <tr>\n",
        "      <th>ARBtex</th>\n",
        "      <td> 0.380008</td>\n",
        "      <td> 0.380008</td>\n",
        "      <td> 0.380008</td>\n",
        "      <td> 0.380008</td>\n",
        "      <td> 0.380008</td>\n",
        "      <td> 0</td>\n",
        "      <td> 0</td>\n",
        "      <td> 0.380008</td>\n",
        "    </tr>\n",
        "    <tr>\n",
        "      <th>ARGAGMt7pp</th>\n",
        "      <td> 0.380008</td>\n",
        "      <td> 0.380008</td>\n",
        "      <td> 0.380008</td>\n",
        "      <td> 0.380008</td>\n",
        "      <td> 0.380008</td>\n",
        "      <td> 0</td>\n",
        "      <td> 0</td>\n",
        "      <td> 0.380008</td>\n",
        "    </tr>\n",
        "    <tr>\n",
        "      <th>ARGDC</th>\n",
        "      <td> 0.380008</td>\n",
        "      <td> 0.380008</td>\n",
        "      <td> 0.380008</td>\n",
        "      <td> 0.380008</td>\n",
        "      <td> 0.380008</td>\n",
        "      <td> 0</td>\n",
        "      <td> 0</td>\n",
        "      <td> 0.380008</td>\n",
        "    </tr>\n",
        "    <tr>\n",
        "      <th>ARGDCpp</th>\n",
        "      <td> 0.380008</td>\n",
        "      <td> 0.380008</td>\n",
        "      <td> 0.380008</td>\n",
        "      <td> 0.380008</td>\n",
        "      <td> 0.380008</td>\n",
        "      <td> 0</td>\n",
        "      <td> 0</td>\n",
        "      <td> 0.380008</td>\n",
        "    </tr>\n",
        "    <tr>\n",
        "      <th>ARGORNt7pp</th>\n",
        "      <td> 0.380008</td>\n",
        "      <td> 0.380008</td>\n",
        "      <td> 0.380008</td>\n",
        "      <td> 0.380008</td>\n",
        "      <td> 0.380008</td>\n",
        "      <td> 0</td>\n",
        "      <td> 0</td>\n",
        "      <td> 0.380008</td>\n",
        "    </tr>\n",
        "    <tr>\n",
        "      <th>ARGSL</th>\n",
        "      <td> 0.000000</td>\n",
        "      <td> 0.000000</td>\n",
        "      <td> 0.000000</td>\n",
        "      <td> 0.000000</td>\n",
        "      <td> 0.000000</td>\n",
        "      <td> 0</td>\n",
        "      <td> 0</td>\n",
        "      <td> 0.000000</td>\n",
        "    </tr>\n",
        "    <tr>\n",
        "      <th>ARGSS</th>\n",
        "      <td> 0.000000</td>\n",
        "      <td> 0.000000</td>\n",
        "      <td> 0.000000</td>\n",
        "      <td> 0.000000</td>\n",
        "      <td> 0.000000</td>\n",
        "      <td> 0</td>\n",
        "      <td> 0</td>\n",
        "      <td> 0.000000</td>\n",
        "    </tr>\n",
        "    <tr>\n",
        "      <th>ARGTRS</th>\n",
        "      <td> 0.380008</td>\n",
        "      <td> 0.380008</td>\n",
        "      <td> 0.380008</td>\n",
        "      <td> 0.380008</td>\n",
        "      <td> 0.380008</td>\n",
        "      <td> 0</td>\n",
        "      <td> 0</td>\n",
        "      <td> 0.380008</td>\n",
        "    </tr>\n",
        "  </tbody>\n",
        "</table>\n",
        "</div>"
       ],
       "metadata": {},
       "output_type": "pyout",
       "prompt_number": 8,
       "text": [
        "              ARBtex  ARGAGMt7pp     ARGDC   ARGDCpp  ARGORNt7pp  ARGSL  \\\n",
        "ARBtex      0.380008    0.380008  0.380008  0.380008    0.380008      0   \n",
        "ARGAGMt7pp  0.380008    0.380008  0.380008  0.380008    0.380008      0   \n",
        "ARGDC       0.380008    0.380008  0.380008  0.380008    0.380008      0   \n",
        "ARGDCpp     0.380008    0.380008  0.380008  0.380008    0.380008      0   \n",
        "ARGORNt7pp  0.380008    0.380008  0.380008  0.380008    0.380008      0   \n",
        "ARGSL       0.000000    0.000000  0.000000  0.000000    0.000000      0   \n",
        "ARGSS       0.000000    0.000000  0.000000  0.000000    0.000000      0   \n",
        "ARGTRS      0.380008    0.380008  0.380008  0.380008    0.380008      0   \n",
        "\n",
        "            ARGSS    ARGTRS  \n",
        "ARBtex          0  0.380008  \n",
        "ARGAGMt7pp      0  0.380008  \n",
        "ARGDC           0  0.380008  \n",
        "ARGDCpp         0  0.380008  \n",
        "ARGORNt7pp      0  0.380008  \n",
        "ARGSL           0  0.000000  \n",
        "ARGSS           0  0.000000  \n",
        "ARGTRS          0  0.380008  "
       ]
      }
     ],
     "prompt_number": 8
    }
   ],
   "metadata": {}
  }
 ]
}